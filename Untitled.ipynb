{
 "cells": [
  {
   "cell_type": "code",
   "execution_count": 7,
   "metadata": {},
   "outputs": [],
   "source": [
    "import argparse\n",
    "import math\n",
    "import numpy\n",
    "from numpy import linalg as LA\n",
    "import random\n",
    "import sys\n",
    "from scipy import spatial\n",
    "import tensorflow as tf\n",
    "import types\n",
    "numpy.set_printoptions(precision=3, suppress=True, threshold=sys.maxsize, linewidth=sys.maxsize)\n"
   ]
  },
  {
   "cell_type": "code",
   "execution_count": 78,
   "metadata": {},
   "outputs": [],
   "source": [
    "# Hessians: H: The hessian of the loss w.r.t a change in weights.\n",
    "# via second order taylor series approximation. First term is 0 at convergence.\n",
    "# Second term is parameterized by the Hessian term.\n",
    "# ∆L = M^t * H * M\n",
    "def make_hessians(n, size, mu, sigma):\n",
    "    assert(size > 1)\n",
    "    assert(n > 0)\n",
    "    hessians = []\n",
    "    for i in range(n):\n",
    "        h_i = mu + numpy.random.randn(size, size)*sigma            \n",
    "        h_i = (h_i - numpy.min(h_i))/numpy.ptp(h_i)\n",
    "        h_i = h_i/h_i.sum(axis=1, keepdims=1)\n",
    "        hessians.append(h_i)\n",
    "    return hessians"
   ]
  },
  {
   "cell_type": "code",
   "execution_count": 93,
   "metadata": {},
   "outputs": [],
   "source": [
    "def softmax(scores):\n",
    "    \n",
    "    zeta = 0\n",
    "    for s,i in scores:\n",
    "        zeta += math.exp(s)\n",
    "    \n",
    "    softmax = []\n",
    "    for s,i in scores:\n",
    "        softmax.append( (math.exp(s)/zeta, i))\n",
    "    return softmax\n",
    "    "
   ]
  },
  {
   "cell_type": "code",
   "execution_count": 96,
   "metadata": {},
   "outputs": [
    {
     "name": "stdout",
     "output_type": "stream",
     "text": [
      "0.08495419639608319 5\n",
      "0.08812455453176356 4\n",
      "0.0896244219134982 7\n",
      "0.09101532752823731 6\n",
      "0.09267416288835843 8\n",
      "0.10468527167396154 2\n",
      "0.10617611464275557 3\n",
      "0.1124872484855789 1\n",
      "0.1137698876571713 9\n",
      "0.11648881428259195 0\n"
     ]
    }
   ],
   "source": [
    "\n",
    "n = 10\n",
    "hessians = make_hessians(n, n, 0, 0.1)\n",
    "\n",
    "scores = []\n",
    "for i in range(n):\n",
    "    score_i = 0\n",
    "    delta_i = -numpy.eye(n)[i,:]\n",
    "    for h_j in hessians:\n",
    "        score_i += numpy.dot(delta_i, numpy.matmul(h_j, delta_i)) \n",
    "    scores.append((score_i, i))\n",
    "    \n",
    "    \n",
    "scores = softmax(scores)\n",
    "    \n",
    "scores.sort()\n",
    "for s, i in scores:\n",
    "    print (s, i)\n",
    "    \n",
    "    \n",
    "\n",
    "    \n",
    "\n",
    "    \n",
    "\n",
    "\n"
   ]
  },
  {
   "cell_type": "code",
   "execution_count": null,
   "metadata": {},
   "outputs": [],
   "source": []
  },
  {
   "cell_type": "code",
   "execution_count": null,
   "metadata": {},
   "outputs": [],
   "source": []
  }
 ],
 "metadata": {
  "kernelspec": {
   "display_name": "Python 3",
   "language": "python",
   "name": "python3"
  },
  "language_info": {
   "codemirror_mode": {
    "name": "ipython",
    "version": 3
   },
   "file_extension": ".py",
   "mimetype": "text/x-python",
   "name": "python",
   "nbconvert_exporter": "python",
   "pygments_lexer": "ipython3",
   "version": "3.7.5"
  }
 },
 "nbformat": 4,
 "nbformat_minor": 2
}
